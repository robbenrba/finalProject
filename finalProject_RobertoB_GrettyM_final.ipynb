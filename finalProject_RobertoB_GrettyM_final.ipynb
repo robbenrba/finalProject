{
 "cells": [
  {
   "cell_type": "markdown",
   "metadata": {},
   "source": [
    "**Context**  \n",
    "Bank marketing campaigns dataset analysis - Opening a Term Deposit dataset is a dataset describing a Portugal bank marketing campaigns results. Conducted campaigns were based mostly on direct phone calls, offering bank client to place a term deposit.\n",
    "\n",
    "If after all marketing efforts client had agreed to place deposit - target variable marked 'yes', otherwise 'no'\n",
    "\n",
    "Target y (term): \n",
    "\n",
    "* 0 : no, disagree to place deposit\n",
    "* 1 : yes, agree to place deposit"
   ]
  },
  {
   "cell_type": "markdown",
   "metadata": {},
   "source": [
    "**Problem Statement :**\n",
    "\n",
    "Proses marketing dapat memakan waktu dan sumber daya yang signifikan jika bank menargetkan semua calon client tanpa melakukan penyaringan terlebih dahulu atau targeted marketing, maka terdapat waktu dan sumber daya yang terbuang. Bank ingin meningkatkan efisiensi marketing dengan mengetahui calon client mana yang kemungkinan akan setuju untuk membuka akun tabungan berjangka (term deposit) atau deposito.\n",
    "\n",
    "**Goals :**\n",
    "\n",
    "Berdasarkan permasalahan tersebut, bank ingin memiliki kemampuan untuk memprediksi kemungkinan seorang client akan setuju untuk membuka akun tabungan berjangka atau deposito. Hal ini dapat mendukung pihak bank untuk menjalankan strategi marketing untuk client yang paling mungkin untuk tertarik agar dapat menghemat biaya, waktu, dan sumber daya.\n",
    "\n",
    "Selain itu, bank ingin mengetahui faktor apa yang membuat seorang client ingin membuka tabungan berjangka atau deposito atau tidak, sehingga mereka dapat membuat rencana yang lebih baik dalam mendekati potensial client.\n",
    "\n",
    "**Analytic Approach :**\n",
    "\n",
    "Jadi yang akan kita lakukan adalah menganalisis data untuk menemukan pola yang membedakan client yang mau membuka akun tabungan berjangka atau tidak. \n",
    "\n",
    "Kemudian model klasifikasi akan dikembangkan untuk membantu bank agar dapat memprediksi probabilitas seorang client akan atau ingin membuka akun tabungan berjangka atau deposito di bank tersebut atau tidak."
   ]
  }
 ],
 "metadata": {
  "language_info": {
   "name": "python"
  }
 },
 "nbformat": 4,
 "nbformat_minor": 2
}
